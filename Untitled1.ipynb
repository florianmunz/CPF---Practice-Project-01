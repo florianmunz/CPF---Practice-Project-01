{
 "cells": [
  {
   "cell_type": "code",
   "execution_count": 13,
   "id": "0983aa3f-5019-4031-aecb-e04c1f1c0c4f",
   "metadata": {
    "tags": []
   },
   "outputs": [
    {
     "name": "stdout",
     "output_type": "stream",
     "text": [
      "M76 Value       7.7611\n",
      "H93 Value       6.8672\n",
      "BCC97 Value     8.2942\n"
     ]
    }
   ],
   "source": [
    "%run BCC_option_valuation.py"
   ]
  },
  {
   "cell_type": "markdown",
   "id": "d7644955-b5b3-4370-81e5-299471503c8c",
   "metadata": {},
   "source": [
    "$$\n",
    "S_{0}-\\frac{\\sqrt{S_{0}K}e^{-rT/2}}{\\pi}\\int_{0}^{\\infty} \\mathbf{Re}\\left[e^{izk} \\varphi_{0}^{M76}(z-i/2,T)\\right] \\frac{dz}{z^2+1/4}\n",
    "$$"
   ]
  },
  {
   "cell_type": "code",
   "execution_count": null,
   "id": "d8bd1493-7542-45e8-baa8-aaab7a12aae1",
   "metadata": {},
   "outputs": [],
   "source": []
  },
  {
   "cell_type": "code",
   "execution_count": null,
   "id": "2dc49861-6977-49e3-a910-e16331077116",
   "metadata": {},
   "outputs": [],
   "source": []
  },
  {
   "cell_type": "code",
   "execution_count": null,
   "id": "68ac2535-b5ce-4c2d-ab4a-9bf7a6dde2b0",
   "metadata": {},
   "outputs": [],
   "source": []
  }
 ],
 "metadata": {
  "kernelspec": {
   "display_name": "Python 3 (ipykernel)",
   "language": "python",
   "name": "python3"
  },
  "language_info": {
   "codemirror_mode": {
    "name": "ipython",
    "version": 3
   },
   "file_extension": ".py",
   "mimetype": "text/x-python",
   "name": "python",
   "nbconvert_exporter": "python",
   "pygments_lexer": "ipython3",
   "version": "3.11.7"
  }
 },
 "nbformat": 4,
 "nbformat_minor": 5
}
