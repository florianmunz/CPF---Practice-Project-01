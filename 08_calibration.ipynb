{
 "cells": [
  {
   "cell_type": "markdown",
   "metadata": {
    "slideshow": {
     "slide_type": "slide"
    }
   },
   "source": [
    "<img src=\"http://hilpisch.com/tpq_logo.png\" alt=\"The Python Quants\" width=\"35%\" align=\"right\" border=\"0\"><br>"
   ]
  },
  {
   "cell_type": "markdown",
   "metadata": {},
   "source": [
    "# Computational Finance"
   ]
  },
  {
   "cell_type": "markdown",
   "metadata": {},
   "source": [
    "### Model Calibration"
   ]
  },
  {
   "cell_type": "markdown",
   "metadata": {},
   "source": [
    "Dr Yves J Hilpisch\n",
    "\n",
    "The Python Quants GmbH\n",
    "\n",
    "http://tpq.io | [training@tpq.io](mailto:training@tpq.io) | [@dyjh](http://twitter.com/dyjh)"
   ]
  },
  {
   "cell_type": "markdown",
   "metadata": {
    "slideshow": {
     "slide_type": "slide"
    }
   },
   "source": [
    "## Agenda"
   ]
  },
  {
   "cell_type": "markdown",
   "metadata": {
    "slideshow": {
     "slide_type": "subslide"
    }
   },
   "source": [
    "* general considerations\n",
    "* calibration of short rate component\n",
    "* calibration of stochastic volatility model\n",
    "* calibration of jump component\n",
    "* calibration of complete model\n",
    "\n",
    "Go to [http://derivatives-analytics-with-python.com](http://derivatives-analytics-with-python.com) to find links to all the resources and Python codes (eg Quant Platform, Github repository)."
   ]
  },
  {
   "cell_type": "markdown",
   "metadata": {
    "slideshow": {
     "slide_type": "slide"
    }
   },
   "source": [
    "## General Considerations"
   ]
  },
  {
   "cell_type": "markdown",
   "metadata": {
    "slideshow": {
     "slide_type": "subslide"
    }
   },
   "source": [
    "Historically, **theoretical valuation** has been seen as a process where a number of input parameters of a model or formula determines the price/value of a derivative instrument. The fundamental assumption behind this reasoning is that you can observe, in principle, anything in the markets that finally determines the price/value of a security &mdash; markets should be, after all, **informationally efficient**. A major example is the Black-Scholes-Merton formula which takes as input six variables &mdash; initial price level of the underlying, the underlying's volatility, the strike price of the option at hand, time-to-maturity, short rate and maybe dividends paid by the underlying. If you put in numerical values for the 6 variables, the formula returns a value for the option at hand."
   ]
  },
  {
   "cell_type": "markdown",
   "metadata": {
    "slideshow": {
     "slide_type": "subslide"
    }
   },
   "source": [
    "However, if _**the market is always right**_, what does a model price/value mean which deviates from an observable market value? As earlier sessions discuss, market-based valuation refers to the process where more complex derivatives are valued 'in consistency' with observed market prices of plain vanilla derivatives. Therefore, today's **valuation practice** requires in the first place that valuation models be capable of replicating observed market values of vanilla products sufficiently well."
   ]
  },
  {
   "cell_type": "markdown",
   "metadata": {
    "slideshow": {
     "slide_type": "subslide"
    }
   },
   "source": [
    "### Why Calibration At All?"
   ]
  },
  {
   "cell_type": "markdown",
   "metadata": {
    "slideshow": {
     "slide_type": "subslide"
    }
   },
   "source": [
    "In a narrow sense (i.e. in the theory of continuous processes), market incompleteness implies that a given derivative asset cannot be replicated perfectly by trading in its underlying(s).  In a wider sense (i.e. in the theory of processes with jumps), market incompleteness implies that a given derivative asset cannot be replicated perfectly even if trading in all available (derivative) assets is allowed."
   ]
  },
  {
   "cell_type": "markdown",
   "metadata": {
    "slideshow": {
     "slide_type": "subslide"
    }
   },
   "source": [
    "Regarding the special cases of the general market model $\\mathcal{M}^{BCC97}$, one can say the following. The model of BSM is complete. The model of H93 is incomplete in a narrow sense but complete in a wider sense since a derivative asset generally can be replicated by trading in both the underlying and another derivative asset. The model of M76 is incomplete even in a wider sense which is due to the jump component having stochastic jump size. To hedge jump risk perfectly, an over-countably infinite number of traded assets would be necessary; of course something not found, neither in practice nor theory."
   ]
  },
  {
   "cell_type": "markdown",
   "metadata": {
    "slideshow": {
     "slide_type": "subslide"
    }
   },
   "source": [
    "As a consequence, the model of BCC97 is incomplete in a wider sense, implying that perfect hedges are not possible. Formally speaking, incompleteness leads to non-uniqueness of the risk-neutral probability measure $Q$ and to multiple prices of derivative assets consistent with the absence of arbitrage. A simple example illustrates this insight."
   ]
  },
  {
   "cell_type": "markdown",
   "metadata": {
    "slideshow": {
     "slide_type": "subslide"
    }
   },
   "source": [
    "Consider a simple financial market with two dates $t \\in \\{0,1\\}$ and three states of the economy tomorrow, i.e. at $t=1$, which occur with equal probability. There are two assets. First, a risk-less bond $B_{t}$ which pays tomorrow $B_{1}=10$ units of currency for sure and whose price today is $B_{0}=10=(1+r)^{-1} \\cdot B_{1}$ such that $r=0.0$. Second, a risky security, called the index, which costs $S_{0}=10$ today and pays tomorrow\n",
    "\n",
    "$$\n",
    "S_{1}=\\left(\\begin{array}[3]{1} 20\\\\10\\\\0 \\end{array}\\right)  \n",
    "$$"
   ]
  },
  {
   "cell_type": "markdown",
   "metadata": {
    "slideshow": {
     "slide_type": "subslide"
    }
   },
   "source": [
    "By standard results from linear algebra, the financial market is incomplete (in a narrow sense) since not every payoff at $t=1$ can be replicated via trading in the available securities. Two linearly independent vectors are not enough to form a basis of the $\\mathbb{R}^{3}$. At least three are necessary. Consider now the derivative asset \n",
    "\n",
    "$$\n",
    "A_{1}=\\left(\\begin{array}[3]{1} 16\\\\4\\\\0 \\end{array}\\right) \n",
    "$$\n",
    "\n",
    "which should be valued."
   ]
  },
  {
   "cell_type": "markdown",
   "metadata": {
    "slideshow": {
     "slide_type": "subslide"
    }
   },
   "source": [
    "Simple calculations show that perfect replication is not possible. However, absence of arbitrage must hold such that there exists by the Fundamental Theorem of Asset Pricing a martingale measure $Q$ such that\n",
    "\n",
    "\\begin{eqnarray*}\n",
    "\\mathbf{E}^{Q}_{0} \\left( S_{1} \\right) &=& S_{0} \\\\\n",
    "\\Rightarrow q^{1} \\cdot 20 + q^{2} \\cdot 10 + q^{3} \\cdot 0 &=& 10 \\\\\n",
    "\\Leftrightarrow q^{2} &=& 1 - 2\\cdot q^{1} \\nonumber\n",
    "\\end{eqnarray*}\n",
    "\n",
    "with  $q^{s}>0$ and $q^{1}+q^{2}+q^{3}=1$ for $Q$ to be a (risk-neutral) probability measure."
   ]
  },
  {
   "cell_type": "markdown",
   "metadata": {
    "slideshow": {
     "slide_type": "subslide"
    }
   },
   "source": [
    "One gets\n",
    "\n",
    "\\begin{eqnarray*}\n",
    "q^{1}+\\left( 1-2\\cdot q^{1}\\right) +q^{3}&=&1\\\\\n",
    "\\Leftrightarrow q^{3}&=&q^{1} \\nonumber\n",
    "\\end{eqnarray*}\n",
    "\n",
    "As a consequence, every risk-neutral probability measure from the set\n",
    "\n",
    "$$\n",
    "\\mathbb{Q} = \\left\\{ Q\\in \\mathbb{R}^3_{++}: \\left( \\begin{array}[3]{1} q^{1}\\\\q^{2}\\\\q^{3} \\end{array} \\right)\n",
    "\\equiv \\left( \\begin{array}[3]{1} \\nu\\\\1-2\\nu\\\\ \\nu \\end{array} \\right),0<\\nu<\\frac{1}{4} \\right\\} \\nonumber\n",
    "$$\n",
    "\n",
    "makes the index a martingale consistent with the absence of arbitrage."
   ]
  },
  {
   "cell_type": "markdown",
   "metadata": {
    "slideshow": {
     "slide_type": "subslide"
    }
   },
   "source": [
    "Also, every price $A_{0}$ of the derivative asset $A_{1}$ which lies in the open interval $]\\underline{A_{0}},\\overline{A_{0}}[$ with\n",
    "\n",
    "$$\n",
    "\\underline{A_{0}}\\equiv \\mathbf{E}^{Q(\\nu =0)}\\left[ A_{1}\\right] =4.0 \n",
    "$$\n",
    "\n",
    "and\n",
    "\n",
    "$$\n",
    "\\overline{A_{0}}\\equiv \\mathbf{E}^{Q(\\nu =0.25)}\\left[ A_{1}\\right]=1+8=9.0 \n",
    "$$\n",
    "\n",
    "is consistent with the absence of arbitrage."
   ]
  },
  {
   "cell_type": "markdown",
   "metadata": {
    "slideshow": {
     "slide_type": "subslide"
    }
   },
   "source": [
    "Market incompleteness leaves one with the unsatisfactory situation that there are multiple prices for derivative assets. To resolve this problem, calibration comes into play. Because there is, in general, no simple criterion to choose among the possible risk-neutral probability measures, one has to ask the market for the right one&mdash;this is what calibration is about. Or as Björk (2004), p. 221, puts it:\n",
    "\n",
    "> \"Question: Who chooses the martingale measure? ... Answer: The market!\""
   ]
  },
  {
   "cell_type": "markdown",
   "metadata": {
    "slideshow": {
     "slide_type": "subslide"
    }
   },
   "source": [
    "Therefore, calibration yields the **market-consistent** risk-neutral probability measure in the sense that (i) liquidly traded plain vanilla options are priced correctly and (ii) other (exotic) derivatives are priced such that prices are both consistent with the absence of arbitrage and indeed unique."
   ]
  },
  {
   "cell_type": "markdown",
   "metadata": {
    "slideshow": {
     "slide_type": "subslide"
    }
   },
   "source": [
    "### Which Role Play Different Model Components?"
   ]
  },
  {
   "cell_type": "markdown",
   "metadata": {
    "slideshow": {
     "slide_type": "subslide"
    }
   },
   "source": [
    "Formally speaking, calibration means to find parameters for a given model such that it is market-consistent as explained before. It is known that the model of M76 is not capable of perfectly replicating prices for multiple strikes and maturities. However, for the short maturity and a subset of option prices the fit is pretty good. Therefore, the **jump component** of the general model of BCC97 will take care of **short term** option prices. On the other hand, it is well-known that the **stochastic volatility** model of H93 is capable of replicating option prices of **longer maturities** pretty well."
   ]
  },
  {
   "cell_type": "markdown",
   "metadata": {
    "slideshow": {
     "slide_type": "subslide"
    }
   },
   "source": [
    "Therefore, when calibrating a financial market model simultaneously to short as well as longer maturities one needs both a jump component and stochastic volatility. Gallucio and Le Cam (2008), p. 9, conclude:\n",
    "\n",
    "\n",
    "> \"... no matter how parameters are chosen, it is impossible to make a pure [stochastic volatility] or jumps model consistent with the observed shape of the smile ... This further reinforces the view that option markets are consistent with the simultaneous presence of both jumps and stochastic volatility in the asset dynamics.\""
   ]
  },
  {
   "cell_type": "markdown",
   "metadata": {
    "slideshow": {
     "slide_type": "subslide"
    }
   },
   "source": [
    "The model of **Bates (1996)** is one of the most simple ones to accommodate both jumps and stochastic volatility. Its attractiveness further stems from the fact that the two sub-models, H93 and M76, are well understood and widely applied in theory and practice."
   ]
  },
  {
   "cell_type": "markdown",
   "metadata": {
    "slideshow": {
     "slide_type": "subslide"
    }
   },
   "source": [
    "What about **stochastic short rates**? It is well-known that the impact of short rate volatility is almost negligible when calibrating models to short maturity option prices (cf. BCC97). However, the longer the maturities become the more important becomes short rate volatility such that it obviously cannot be neglected in the context of equity derivatives &mdash; which can have pretty long maturities."
   ]
  },
  {
   "cell_type": "markdown",
   "metadata": {
    "slideshow": {
     "slide_type": "subslide"
    }
   },
   "source": [
    "Stochastic short rates play a dual role in the general market model. First, they are important factors in the risk-neutral valuation and hedging of derivative assets in general. Second, they are central for determining present values of deterministic cash flows, like, for instance, liabilities or cash flows from bonds. Again, the **model of CIR85** is well understood and widely applied and therefore an obvious choice."
   ]
  },
  {
   "cell_type": "markdown",
   "metadata": {
    "slideshow": {
     "slide_type": "subslide"
    }
   },
   "source": [
    "The short rate model is to be calibrated to the term structure of interest rates such that it is replicated reasonably well and short rate sensitive instruments, like bonds, options on bonds or swaptions are correctly priced. Due to the zero correlation between the short rate and the index model, the task of calibrating the general model can be separated in two independent procedures."
   ]
  },
  {
   "cell_type": "markdown",
   "metadata": {
    "slideshow": {
     "slide_type": "subslide"
    }
   },
   "source": [
    "### What Objective Function?"
   ]
  },
  {
   "cell_type": "markdown",
   "metadata": {
    "slideshow": {
     "slide_type": "subslide"
    }
   },
   "source": [
    "To calibrate a financial market model, one needs a performance yardstick for the quality of the calibration &mdash; formally, an objective or error function which is to be minimized. In what follows, we use the **Mean-Squared Error (MSE)**:\n",
    "\n",
    "$$\n",
    "\\min_{p } \\frac{1}{N}\\sum_{n=1}^{N}\\left( C_{n}^{*} - C_{n}^{mod}(p )\\right)^{2}\n",
    "$$\n",
    "\n",
    "with the $C_{n}^{*}$ being the market or input prices and the $C_{n}^{mod}$ being the model or output prices for options $n=1,...,N$ given parameter vector $p$."
   ]
  },
  {
   "cell_type": "markdown",
   "metadata": {
    "slideshow": {
     "slide_type": "subslide"
    }
   },
   "source": [
    "### What Market Data?"
   ]
  },
  {
   "cell_type": "markdown",
   "metadata": {
    "slideshow": {
     "slide_type": "subslide"
    }
   },
   "source": [
    "The **first** question regarding market data of course is what the relevant index is when analyzing equity index derivatives. This generally is pretty easy to answer; S&P500, EURO STOXX 50, DAX or SMI could be candidates. The **second** is also relatively easy: which interest rates, yields, bond prices, etc. to use for the calibration of the short rate model. The **third**, more difficult to answer, question is about the concrete option quotes to be included in the calibration."
   ]
  },
  {
   "cell_type": "markdown",
   "metadata": {
    "slideshow": {
     "slide_type": "subslide"
    }
   },
   "source": [
    "If one has decided upon the option provider itself &mdash; say, for example, the Eurex for the EURO STOXX 50 index &mdash; the decision is about the option maturities and strikes to be included. In addition, there are different quotes per option, like bid, ask, last and settlement price. There is also no guarantee that market prices are arbitrage-free such that the need to adjust raw market data may arise."
   ]
  },
  {
   "cell_type": "markdown",
   "metadata": {
    "slideshow": {
     "slide_type": "subslide"
    }
   },
   "source": [
    "We use a set of 15 market quotes for European call options as follows:\n",
    "\n",
    "* **maturities**: three maturities (all less than one year)\n",
    "* **strikes**: five strikes per maturity\n",
    "\n",
    "Since the subsequent analysis focuses on equity derivatives on the EURO STOXX 50 index, the following market data is used for calibration of the BCC97 model (all data from 30. September 2014):\n",
    "\n",
    "* **short rate component**: Eonia rate and Euribor rates (up to one year)\n",
    "* **equity component**: European call options on the EURO STOXX 50 offered by the Eurex in Frankfurt"
   ]
  },
  {
   "cell_type": "markdown",
   "metadata": {
    "slideshow": {
     "slide_type": "slide"
    }
   },
   "source": [
    "## Calibration of Short Rate Component"
   ]
  },
  {
   "cell_type": "markdown",
   "metadata": {
    "slideshow": {
     "slide_type": "subslide"
    }
   },
   "source": [
    "Recall the CIR85 stochastic differential equation \n",
    "\n",
    "$$\n",
    "dr_{t}=\\kappa_{r} (\\theta_{r} -r_{t})dt+\\sigma_{r} \\sqrt{r_{t}}dZ_{t} \n",
    "$$\n",
    "\n",
    "The task of calibration is to minimize, for all considered times $t$ and a parameter set $\\alpha = (\\kappa_{r},\\theta_{r},\\sigma_{r},r_{0})$, simultaneously the differences\n",
    "\n",
    "$$\n",
    "\\Delta f(0,t) \\equiv f(0,t)-f^{CIR85}(0,t;\\alpha)\n",
    "$$\n",
    "\n",
    "where $f(0,t)$ is the current market implied forward rate for time $t$ and $f^{CIR85}(0,t;\\alpha)$ is the current model implied forward rate for time $t$ given parameter set $\\alpha$."
   ]
  },
  {
   "cell_type": "markdown",
   "metadata": {
    "slideshow": {
     "slide_type": "subslide"
    }
   },
   "source": [
    "If $B_{t}(T),t < T$, denotes the time $t$ price of a zero-coupon bond maturing at time $T$ and paying one unit of currency at that date, then the (instantaneous) forward rate at time $t$ for time $T$ is defined by\n",
    "\n",
    "$$\n",
    "f(t,T) \\equiv -\\frac{\\partial B_{t}(T)}{\\partial T}\n",
    "$$\n",
    "\n",
    "with $f(0,t)$ as an obvious special case. Furthermore, the short rate at time $t$ follows from $r_{t}=f(t,t)$."
   ]
  },
  {
   "cell_type": "markdown",
   "metadata": {
    "slideshow": {
     "slide_type": "subslide"
    }
   },
   "source": [
    "The other way round, zero-coupon bond prices are uniquely determined by the forward rate curve:\n",
    "\n",
    "$$\n",
    "B_{t}(T) = \\exp\\left(-\\int^{T}_{t} f(t,s) ds\\right)\n",
    "$$"
   ]
  },
  {
   "cell_type": "markdown",
   "metadata": {
    "slideshow": {
     "slide_type": "subslide"
    }
   },
   "source": [
    "With this background knowledge, the usefulness of the following formula for the forward rates in the CIR85 short rate model becomes clear.\n",
    "\n",
    "\\begin{eqnarray}\n",
    "f^{CIR85}(0,t;\\alpha) = \\frac{\\kappa_{r} \\theta_{r}\\left(e^{\\gamma t}-1\\right)}{2\\gamma+(\\kappa_{r}+\\gamma)\\left(e^{\\gamma t}-1\\right)} \\nonumber \\\\\n",
    "+r_{0} \\frac{4 \\gamma ^{2} e^{\\gamma t}}{\\left(2\\gamma+(\\kappa_{r}+\\gamma)\\left(e^{\\gamma t}-1\\right)\\right)^{2}} \n",
    "\\end{eqnarray}\n",
    "\n",
    "where\n",
    "\n",
    "$$\n",
    "\\gamma \\equiv \\sqrt{\\kappa_{r}^{2}+2\\sigma^{2}_{r}}\n",
    "$$\n",
    "\n",
    "with the parameters and variables as defined as usual."
   ]
  },
  {
   "cell_type": "markdown",
   "metadata": {
    "slideshow": {
     "slide_type": "subslide"
    }
   },
   "source": [
    "The time $t$ price a of zero-coupon bond maturing at time $T$ and paying one unit of currency is given by the affine formula\n",
    "\n",
    "$$\n",
    "B_{t}(T) = a(t,T)e^{-b(t,T)\\mathbf{E}^{\\mathbf{Q}}_{0}(r_{t})}\n",
    "$$\n",
    "\n",
    "where\n",
    "\n",
    "$$\n",
    "a(t,T) \\equiv \\left[\\frac{2\\gamma \\exp(0.5(\\kappa_{r}+\\gamma)(T-t))}{2\\gamma+(\\kappa_{r}+\\gamma)(e^{\\gamma (T-t)}-1)}\\right]^{\\frac{2\\kappa_{r}\\theta_{r}}{\\sigma_{r}^{2}}}\n",
    "$$\n",
    "\n",
    "and\n",
    "\n",
    "$$\n",
    "b(t,T) \\equiv \\frac{2\\left(e^{\\gamma (T-t)}-1\\right)}{2\\gamma+(\\kappa_{r}+\\gamma)\\left(e^{\\gamma (T-t)}-1\\right)}\n",
    "$$\n",
    "\n",
    "For the expectation value of $r_{t}$ it holds $\\mathbf{E}^{\\mathbf{Q}}_{0}(r_{t})=\\theta_{r}+e^{-\\kappa_{r} t}(r_{0}-\\theta_{r})$."
   ]
  },
  {
   "cell_type": "markdown",
   "metadata": {
    "slideshow": {
     "slide_type": "subslide"
    }
   },
   "source": [
    "There is a one-to-one correspondence between zero-coupon bond yields for different maturities and forward rates via\n",
    "\n",
    "$$\n",
    "f(0,T) = Y(0,T)+\\frac{\\partial Y(0,T)}{\\partial T}\\cdot T\n",
    "$$\n",
    "\n",
    "with $Y(0,T)$ as the yield today of a bond maturing at $T$."
   ]
  },
  {
   "cell_type": "markdown",
   "metadata": {
    "slideshow": {
     "slide_type": "subslide"
    }
   },
   "source": [
    "The (continuous) yield for a zero-coupon bond solves the equation \n",
    "\n",
    "\\begin{eqnarray}\n",
    "B_{T}(T)&=&B_{0}(T)e^{Y(0,T) \\cdot T} \\nonumber \\\\ \n",
    "\\Leftrightarrow Y(0,T) &=& \\frac{\\log B_{T}(T)-\\log B_{0}(T)}{T} \\nonumber \n",
    "\\end{eqnarray}\n",
    "\n",
    "With the final value of the bond normalized to 1,  one has\n",
    "\n",
    "$$\n",
    "Y(0,T)=-\\frac{\\log (B_{0}(T))}{T}\n",
    "$$"
   ]
  },
  {
   "cell_type": "markdown",
   "metadata": {
    "slideshow": {
     "slide_type": "subslide"
    }
   },
   "source": [
    "Unfortunately, spot rates and bond yields are generally only quoted for selected, discrete maturities so that the need arises to interpolate between the single data points. With a continuously differentiable interpolating function &mdash; e.g. from a cubic splines regression &mdash; one can derive the partial derivative from before and therewith forward rates for arbitrary times $T$."
   ]
  },
  {
   "cell_type": "markdown",
   "metadata": {
    "slideshow": {
     "slide_type": "subslide"
    }
   },
   "source": [
    "Euribor rates are quoted on a 30/360 day count basis. For what follows, Euribor rates therefore have to be transformed into continuous rates (continuous yield of a unit zero-coupon bond). As an example, take the 6-month Euribor rate which is 0.043%. The corresponding factor is\n",
    "\n",
    "$$\n",
    "f_s^{6m} = 1 + 180/360 \\cdot 0.00043\n",
    "$$\n",
    "\n",
    "The equivalent annualized continuous rate then is\n",
    "\n",
    "$$\n",
    "f_c^{6m}=360/180 \\cdot \\log{(f_s^{6m})}\n",
    "$$\n",
    "\n",
    "This ensures that\n",
    "\n",
    "$$\n",
    "1 + 180/360 \\cdot f_s^{6m} = e^{180/360 \\cdot f_c^{6m}}\n",
    "$$\n",
    "\n",
    "holds."
   ]
  },
  {
   "cell_type": "markdown",
   "metadata": {
    "slideshow": {
     "slide_type": "subslide"
    }
   },
   "source": [
    "We are ready to implement the calibration in Python."
   ]
  },
  {
   "cell_type": "code",
   "execution_count": 127,
   "metadata": {},
   "outputs": [],
   "source": [
    "import math\n",
    "import numpy as np\n",
    "np.set_printoptions(suppress=True,\n",
    "        formatter={'all': lambda x: '%7.6f' % x})\n",
    "import matplotlib.pyplot as plt\n",
    "plt.style.use('seaborn-v0_8')\n",
    "import matplotlib as mpl\n",
    "mpl.rcParams['font.family'] = 'serif'\n",
    "%matplotlib inline\n",
    "import scipy.interpolate as sci\n",
    "from scipy.optimize import fmin\n",
    "from CIR_zcb_valuation_gen import B"
   ]
  },
  {
   "cell_type": "markdown",
   "metadata": {
    "slideshow": {
     "slide_type": "subslide"
    }
   },
   "source": [
    "The market data."
   ]
  },
  {
   "cell_type": "code",
   "execution_count": 129,
   "metadata": {},
   "outputs": [],
   "source": [
    "#\n",
    "# Market Data: Eonia rate (01.10.2014) + Euribor rates\n",
    "# Source: http://www.emmi-benchmarks.eu\n",
    "# on 30. September 2014\n",
    "#\n",
    "t_list = np.array((1, 7, 14, 30, 60, 90, 180, 270, 360)) / 360. \n",
    "r_list =  np.array((-0.032, -0.013, -0.013, 0.007, 0.043,\n",
    "                    0.083, 0.183, 0.251, 0.338)) / 100\n",
    "\n",
    "factors = (1 + t_list * r_list)\n",
    "zero_rates = 1 / t_list * np.log(factors)\n",
    "\n",
    "r0 = r_list[0] # 0.0  # set to zero "
   ]
  },
  {
   "cell_type": "markdown",
   "metadata": {
    "slideshow": {
     "slide_type": "subslide"
    }
   },
   "source": [
    "Interpolation of the market data."
   ]
  },
  {
   "cell_type": "code",
   "execution_count": 131,
   "metadata": {},
   "outputs": [],
   "source": [
    "#\n",
    "# Interpolation of Market Data\n",
    "#\n",
    "\n",
    "tck = sci.splrep(t_list, zero_rates, k=3)  # cubic splines\n",
    "tn_list = np.linspace(0.0, 1.0, 24)\n",
    "ts_list = sci.splev(tn_list, tck, der=0)\n",
    "de_list = sci.splev(tn_list, tck, der=1)\n",
    "\n",
    "f = ts_list + de_list * tn_list\n",
    "  # forward rate transformation"
   ]
  },
  {
   "cell_type": "markdown",
   "metadata": {
    "slideshow": {
     "slide_type": "subslide"
    }
   },
   "source": [
    "And a plot of the interpolated data."
   ]
  },
  {
   "cell_type": "code",
   "execution_count": 133,
   "metadata": {},
   "outputs": [
    {
     "data": {
      "text/plain": [
       "Text(0, 0.5, 'rate')"
      ]
     },
     "execution_count": 133,
     "metadata": {},
     "output_type": "execute_result"
    },
    {
     "data": {
      "image/png": "[encoded data removed]",
      "text/plain": [
       "<Figure size 800x500 with 1 Axes>"
      ]
     },
     "metadata": {},
     "output_type": "display_data"
    }
   ],
   "source": [
    "plt.figure(figsize=(8, 5))\n",
    "plt.plot(t_list, r_list, 'ro', label='rates')\n",
    "plt.plot(tn_list, ts_list, 'b', label='interpolation', lw=1.5)\n",
    "  # cubic splines\n",
    "plt.plot(tn_list, de_list, 'g--', label='1st derivative', lw=1.5) \n",
    "  # first derivative\n",
    "plt.legend(loc=0)\n",
    "plt.xlabel('time horizon in years')\n",
    "plt.ylabel('rate')"
   ]
  },
  {
   "cell_type": "markdown",
   "metadata": {
    "slideshow": {
     "slide_type": "subslide"
    }
   },
   "source": [
    "A function to calculate forward rates."
   ]
  },
  {
   "cell_type": "code",
   "execution_count": 135,
   "metadata": {},
   "outputs": [],
   "source": [
    "def CIR_forward_rate(opt):\n",
    "    kappa_r, theta_r, sigma_r = opt\n",
    "    t = tn_list\n",
    "    g = np.sqrt(kappa_r ** 2 + 2 * sigma_r ** 2)\n",
    "    sum1 = ((kappa_r * theta_r * (np.exp(g * t) - 1)) /\n",
    "          (2 * g + (kappa_r + g) * (np.exp(g * t) - 1)))\n",
    "    sum2 = r0 * ((4 * g ** 2 * np.exp(g * t)) /\n",
    "            (2 * g + (kappa_r + g) * (np.exp(g * t) - 1)) ** 2)\n",
    "    forward_rate = sum1 + sum2\n",
    "    return forward_rate"
   ]
  },
  {
   "cell_type": "markdown",
   "metadata": {
    "slideshow": {
     "slide_type": "subslide"
    }
   },
   "source": [
    "The error function for the calibration."
   ]
  },
  {
   "cell_type": "code",
   "execution_count": 137,
   "metadata": {},
   "outputs": [],
   "source": [
    "def CIR_error_function(opt):\n",
    "    ''' Error function for CIR85 model calibration. '''\n",
    "    kappa_r, theta_r, sigma_r = opt\n",
    "    if 2 * kappa_r * theta_r < sigma_r ** 2:\n",
    "        return 100\n",
    "    if kappa_r < 0 or theta_r < 0 or sigma_r < 0.001:\n",
    "        return 100\n",
    "    forward_rates = CIR_forward_rate(opt)\n",
    "    MSE = np.sum((f - forward_rates) ** 2) / len(f)\n",
    "    # print opt, MSE\n",
    "    return MSE"
   ]
  },
  {
   "cell_type": "markdown",
   "metadata": {
    "slideshow": {
     "slide_type": "subslide"
    }
   },
   "source": [
    "The function for the calibration procedure &mdash; local optimization only."
   ]
  },
  {
   "cell_type": "code",
   "execution_count": 139,
   "metadata": {},
   "outputs": [],
   "source": [
    "def CIR_calibration():\n",
    "    opt = fmin(CIR_error_function, [1.0, 0.02, 0.1],\n",
    "            xtol=0.00001, ftol=0.00001,\n",
    "            maxiter=300, maxfun=500)\n",
    "    return opt"
   ]
  },
  {
   "cell_type": "code",
   "execution_count": 141,
   "metadata": {
    "slideshow": {
     "slide_type": "fragment"
    }
   },
   "outputs": [
    {
     "name": "stdout",
     "output_type": "stream",
     "text": [
      "Optimization terminated successfully.\n",
      "         Current function value: 0.000000\n",
      "         Iterations: 270\n",
      "         Function evaluations: 485\n"
     ]
    },
    {
     "data": {
      "text/plain": [
       "array([0.146849, 0.104511, 0.175197])"
      ]
     },
     "execution_count": 141,
     "metadata": {},
     "output_type": "execute_result"
    }
   ],
   "source": [
    "opt = CIR_calibration()\n",
    "opt"
   ]
  },
  {
   "cell_type": "markdown",
   "metadata": {
    "slideshow": {
     "slide_type": "subslide"
    }
   },
   "source": [
    "A function to visualize the calibration results."
   ]
  },
  {
   "cell_type": "code",
   "execution_count": 143,
   "metadata": {},
   "outputs": [],
   "source": [
    "def plot_calibrated_frc(opt):\n",
    "    ''' Plots market and calibrated forward rate curves. '''\n",
    "    forward_rates = CIR_forward_rate(opt)\n",
    "    plt.figure(figsize=(8, 7))\n",
    "    plt.subplot(211)\n",
    "    plt.ylabel('forward rate $f(0,T)$')\n",
    "    plt.plot(tn_list, f, 'b', label='market')\n",
    "    plt.plot(tn_list, forward_rates, 'ro', label='model')\n",
    "    plt.legend(loc=0)\n",
    "    plt.axis([min(tn_list) - 0.05, max(tn_list) + 0.05,\n",
    "          min(f) - 0.005, max(f) * 1.1])\n",
    "    plt.subplot(212)\n",
    "    wi = 0.02\n",
    "    plt.bar(tn_list, forward_rates - f, width=wi)\n",
    "    plt.xlabel('time horizon in years')\n",
    "    plt.ylabel('difference')\n",
    "    plt.axis([min(tn_list) - 0.05, max(tn_list) + 0.05,\n",
    "          min(forward_rates - f) * 1.1, max(forward_rates - f) * 1.1])\n",
    "    plt.tight_layout()"
   ]
  },
  {
   "cell_type": "markdown",
   "metadata": {
    "slideshow": {
     "slide_type": "subslide"
    }
   },
   "source": [
    "The results visualized."
   ]
  },
  {
   "cell_type": "code",
   "execution_count": 145,
   "metadata": {},
   "outputs": [
    {
     "data": {
      "image/png": "[encoded data removed]",
      "text/plain": [
       "<Figure size 800x700 with 2 Axes>"
      ]
     },
     "metadata": {},
     "output_type": "display_data"
    }
   ],
   "source": [
    "plot_calibrated_frc(opt)"
   ]
  },
  {
   "cell_type": "markdown",
   "metadata": {
    "slideshow": {
     "slide_type": "subslide"
    }
   },
   "source": [
    "And a function to plot ZCB values."
   ]
  },
  {
   "cell_type": "code",
   "execution_count": 147,
   "metadata": {},
   "outputs": [],
   "source": [
    "def plot_zcb_values(p0, T):\n",
    "    ''' Plots unit zero-coupon bond values (discount factors). '''\n",
    "    t_list = np.linspace(0.0, T, 20)\n",
    "    r_list = B([r0, p0[0], p0[1], p0[2], t_list, T])\n",
    "    plt.figure(figsize=(8, 5))\n",
    "    plt.plot(t_list, r_list, 'b')\n",
    "    plt.plot(t_list, r_list, 'ro')\n",
    "    plt.xlabel('time horizon in years')\n",
    "    plt.ylabel('unit zero-coupon bond value')"
   ]
  },
  {
   "cell_type": "markdown",
   "metadata": {
    "slideshow": {
     "slide_type": "subslide"
    }
   },
   "source": [
    "The ZCB values plotted."
   ]
  },
  {
   "cell_type": "code",
   "execution_count": 149,
   "metadata": {},
   "outputs": [
    {
     "data": {
      "image/png": "[encoded data removed]",
      "text/plain": [
       "<Figure size 800x500 with 1 Axes>"
      ]
     },
     "metadata": {},
     "output_type": "display_data"
    }
   ],
   "source": [
    "plot_zcb_values(opt, 2)"
   ]
  },
  {
   "cell_type": "markdown",
   "metadata": {
    "slideshow": {
     "slide_type": "slide"
    }
   },
   "source": [
    "## Calibration of Equity Component"
   ]
  },
  {
   "cell_type": "markdown",
   "metadata": {
    "slideshow": {
     "slide_type": "subslide"
    }
   },
   "source": [
    "To have a small but still meaningful subset of market prices in terms of maturities, the subsequent analysis considers **three maturities**:\n",
    "\n",
    "\n",
    "* 17 October 2014 (17 days)\n",
    "* 19 December 2014 (80 days)\n",
    "* 20 March 2015 (171 days)\n",
    "\n",
    "Maturity day generally is the third Friday of the month if this is a business day.\n",
    "\n",
    "Per maturity, we consider **five different strikes: 3000, 3100, 3200, 3300, 3400** &mdash; given a spot closing level of 3225.93 of the EURO STOXX 50 on 30. September 2014."
   ]
  },
  {
   "cell_type": "markdown",
   "metadata": {
    "slideshow": {
     "slide_type": "subslide"
    }
   },
   "source": [
    "Before proceeding, the right short rates have to be derived from the calibrated CIR85 model since the Fourier transform pricing formula is for constant short rates only. One can recover the right short rate for option maturity $T$ in knowledge of the bond price $B_{0}(T)$ via\n",
    "\n",
    "$$\n",
    "\\bar{r}^{*}(T) = -\\frac{\\log B_{0}(T)}{T}\n",
    "$$\n",
    "\n",
    "which is equivalent to the continuous yield of the respective zero-coupon bond. This approach is used in the calibration scripts to derive equivalent constant short rates for each maturity, respectively."
   ]
  },
  {
   "cell_type": "markdown",
   "metadata": {
    "slideshow": {
     "slide_type": "subslide"
    }
   },
   "source": [
    "### H93 Calibration"
   ]
  },
  {
   "cell_type": "markdown",
   "metadata": {
    "slideshow": {
     "slide_type": "subslide"
    }
   },
   "source": [
    "First, we calibrate the stochastic volatility component to the market data."
   ]
  },
  {
   "cell_type": "code",
   "execution_count": 151,
   "metadata": {
    "slideshow": {
     "slide_type": "-"
    }
   },
   "outputs": [],
   "source": [
    "import math\n",
    "import numpy as np\n",
    "import pandas as pd\n",
    "from scipy.optimize import brute, fmin, minimize\n",
    "import matplotlib as mpl\n",
    "mpl.rcParams['font.family'] = 'serif'\n",
    "from BCC_option_valuation import H93_call_value, BCC_call_value\n",
    "from CIR_calibration import CIR_calibration, r_list\n",
    "from CIR_zcb_valuation import B"
   ]
  },
  {
   "cell_type": "markdown",
   "metadata": {
    "slideshow": {
     "slide_type": "subslide"
    }
   },
   "source": [
    "Calibration of short rate model and market data loading."
   ]
  },
  {
   "cell_type": "code",
   "execution_count": 153,
   "metadata": {},
   "outputs": [
    {
     "name": "stdout",
     "output_type": "stream",
     "text": [
      "Optimization terminated successfully.\n",
      "         Current function value: 0.000000\n",
      "         Iterations: 270\n",
      "         Function evaluations: 485\n"
     ]
    }
   ],
   "source": [
    "#\n",
    "# Calibrate Short Rate Model\n",
    "#\n",
    "kappa_r, theta_r, sigma_r = CIR_calibration()"
   ]
  },
  {
   "cell_type": "code",
   "execution_count": 155,
   "metadata": {},
   "outputs": [],
   "source": [
    "#\n",
    "# Market Data from www.eurexchange.com\n",
    "# as of 30. September 2014\n",
    "#\n",
    "h5 = pd.HDFStore('option_data.h5', 'r')\n",
    "data = h5['data']  # European call & put option data (3 maturities)\n",
    "data['Date'] = data['Date'].apply(lambda x: pd.Timestamp(x))\n",
    "data['Maturity'] = data['Maturity'].apply(lambda x: pd.Timestamp(x))\n",
    "h5.close()\n",
    "S0 = 3225.93  # EURO STOXX 50 level 30.09.2014\n",
    "r0 = r_list[0]  # initial short rate (Eonia 30.09.2014)"
   ]
  },
  {
   "cell_type": "markdown",
   "metadata": {
    "slideshow": {
     "slide_type": "subslide"
    }
   },
   "source": [
    "Option selection and adding needing data."
   ]
  },
  {
   "cell_type": "code",
   "execution_count": 157,
   "metadata": {},
   "outputs": [],
   "source": [
    "#\n",
    "# Option Selection\n",
    "#\n",
    "tol = 0.02  # percent ITM/OTM options\n",
    "options = data[(np.abs(data['Strike'] - S0) / S0) < tol]\n",
    "#\n",
    "# Adding Time-to-Maturity and Short Rates \n",
    "#\n",
    "for row, option in options.iterrows():\n",
    "    T = (option['Maturity'] - option['Date']).days / 365.\n",
    "    options.loc[row, 'T'] = T\n",
    "    B0T = B([kappa_r, theta_r, sigma_r, r0, T])\n",
    "    options.loc[row, 'r'] = -math.log(B0T) / T\n"
   ]
  },
  {
   "cell_type": "code",
   "execution_count": 159,
   "metadata": {},
   "outputs": [
    {
     "data": {
      "text/html": [
       "<div>\n",
       "<style scoped>\n",
       "    .dataframe tbody tr th:only-of-type {\n",
       "        vertical-align: middle;\n",
       "    }\n",
       "\n",
       "    .dataframe tbody tr th {\n",
       "        vertical-align: top;\n",
       "    }\n",
       "\n",
       "    .dataframe thead th {\n",
       "        text-align: right;\n",
       "    }\n",
       "</style>\n",
       "<table border=\"1\" class=\"dataframe\">\n",
       "  <thead>\n",
       "    <tr style=\"text-align: right;\">\n",
       "      <th></th>\n",
       "      <th>Date</th>\n",
       "      <th>Strike</th>\n",
       "      <th>Call</th>\n",
       "      <th>Maturity</th>\n",
       "      <th>Put</th>\n",
       "      <th>T</th>\n",
       "      <th>r</th>\n",
       "    </tr>\n",
       "  </thead>\n",
       "  <tbody>\n",
       "    <tr>\n",
       "      <th>38</th>\n",
       "      <td>2014-09-30</td>\n",
       "      <td>3175.0</td>\n",
       "      <td>126.8</td>\n",
       "      <td>2014-12-19</td>\n",
       "      <td>78.8</td>\n",
       "      <td>0.219178</td>\n",
       "      <td>0.001349</td>\n",
       "    </tr>\n",
       "    <tr>\n",
       "      <th>39</th>\n",
       "      <td>2014-09-30</td>\n",
       "      <td>3200.0</td>\n",
       "      <td>110.9</td>\n",
       "      <td>2014-12-19</td>\n",
       "      <td>87.9</td>\n",
       "      <td>0.219178</td>\n",
       "      <td>0.001349</td>\n",
       "    </tr>\n",
       "    <tr>\n",
       "      <th>40</th>\n",
       "      <td>2014-09-30</td>\n",
       "      <td>3225.0</td>\n",
       "      <td>96.1</td>\n",
       "      <td>2014-12-19</td>\n",
       "      <td>98.1</td>\n",
       "      <td>0.219178</td>\n",
       "      <td>0.001349</td>\n",
       "    </tr>\n",
       "    <tr>\n",
       "      <th>41</th>\n",
       "      <td>2014-09-30</td>\n",
       "      <td>3250.0</td>\n",
       "      <td>82.3</td>\n",
       "      <td>2014-12-19</td>\n",
       "      <td>109.3</td>\n",
       "      <td>0.219178</td>\n",
       "      <td>0.001349</td>\n",
       "    </tr>\n",
       "    <tr>\n",
       "      <th>42</th>\n",
       "      <td>2014-09-30</td>\n",
       "      <td>3275.0</td>\n",
       "      <td>69.6</td>\n",
       "      <td>2014-12-19</td>\n",
       "      <td>121.6</td>\n",
       "      <td>0.219178</td>\n",
       "      <td>0.001349</td>\n",
       "    </tr>\n",
       "    <tr>\n",
       "      <th>342</th>\n",
       "      <td>2014-09-30</td>\n",
       "      <td>3175.0</td>\n",
       "      <td>171.0</td>\n",
       "      <td>2015-03-20</td>\n",
       "      <td>129.2</td>\n",
       "      <td>0.468493</td>\n",
       "      <td>0.003203</td>\n",
       "    </tr>\n",
       "    <tr>\n",
       "      <th>343</th>\n",
       "      <td>2014-09-30</td>\n",
       "      <td>3200.0</td>\n",
       "      <td>156.1</td>\n",
       "      <td>2015-03-20</td>\n",
       "      <td>139.4</td>\n",
       "      <td>0.468493</td>\n",
       "      <td>0.003203</td>\n",
       "    </tr>\n",
       "    <tr>\n",
       "      <th>344</th>\n",
       "      <td>2014-09-30</td>\n",
       "      <td>3225.0</td>\n",
       "      <td>142.0</td>\n",
       "      <td>2015-03-20</td>\n",
       "      <td>150.3</td>\n",
       "      <td>0.468493</td>\n",
       "      <td>0.003203</td>\n",
       "    </tr>\n",
       "    <tr>\n",
       "      <th>345</th>\n",
       "      <td>2014-09-30</td>\n",
       "      <td>3250.0</td>\n",
       "      <td>128.5</td>\n",
       "      <td>2015-03-20</td>\n",
       "      <td>161.8</td>\n",
       "      <td>0.468493</td>\n",
       "      <td>0.003203</td>\n",
       "    </tr>\n",
       "    <tr>\n",
       "      <th>346</th>\n",
       "      <td>2014-09-30</td>\n",
       "      <td>3275.0</td>\n",
       "      <td>115.8</td>\n",
       "      <td>2015-03-20</td>\n",
       "      <td>174.0</td>\n",
       "      <td>0.468493</td>\n",
       "      <td>0.003203</td>\n",
       "    </tr>\n",
       "    <tr>\n",
       "      <th>456</th>\n",
       "      <td>2014-09-30</td>\n",
       "      <td>3175.0</td>\n",
       "      <td>82.3</td>\n",
       "      <td>2014-10-17</td>\n",
       "      <td>24.5</td>\n",
       "      <td>0.046575</td>\n",
       "      <td>0.000038</td>\n",
       "    </tr>\n",
       "    <tr>\n",
       "      <th>457</th>\n",
       "      <td>2014-09-30</td>\n",
       "      <td>3200.0</td>\n",
       "      <td>64.3</td>\n",
       "      <td>2014-10-17</td>\n",
       "      <td>31.5</td>\n",
       "      <td>0.046575</td>\n",
       "      <td>0.000038</td>\n",
       "    </tr>\n",
       "    <tr>\n",
       "      <th>458</th>\n",
       "      <td>2014-09-30</td>\n",
       "      <td>3225.0</td>\n",
       "      <td>48.3</td>\n",
       "      <td>2014-10-17</td>\n",
       "      <td>40.5</td>\n",
       "      <td>0.046575</td>\n",
       "      <td>0.000038</td>\n",
       "    </tr>\n",
       "    <tr>\n",
       "      <th>459</th>\n",
       "      <td>2014-09-30</td>\n",
       "      <td>3250.0</td>\n",
       "      <td>34.6</td>\n",
       "      <td>2014-10-17</td>\n",
       "      <td>51.8</td>\n",
       "      <td>0.046575</td>\n",
       "      <td>0.000038</td>\n",
       "    </tr>\n",
       "    <tr>\n",
       "      <th>460</th>\n",
       "      <td>2014-09-30</td>\n",
       "      <td>3275.0</td>\n",
       "      <td>23.5</td>\n",
       "      <td>2014-10-17</td>\n",
       "      <td>65.8</td>\n",
       "      <td>0.046575</td>\n",
       "      <td>0.000038</td>\n",
       "    </tr>\n",
       "  </tbody>\n",
       "</table>\n",
       "</div>"
      ],
      "text/plain": [
       "          Date  Strike   Call   Maturity    Put         T         r\n",
       "38  2014-09-30  3175.0  126.8 2014-12-19   78.8  0.219178  0.001349\n",
       "39  2014-09-30  3200.0  110.9 2014-12-19   87.9  0.219178  0.001349\n",
       "40  2014-09-30  3225.0   96.1 2014-12-19   98.1  0.219178  0.001349\n",
       "41  2014-09-30  3250.0   82.3 2014-12-19  109.3  0.219178  0.001349\n",
       "42  2014-09-30  3275.0   69.6 2014-12-19  121.6  0.219178  0.001349\n",
       "342 2014-09-30  3175.0  171.0 2015-03-20  129.2  0.468493  0.003203\n",
       "343 2014-09-30  3200.0  156.1 2015-03-20  139.4  0.468493  0.003203\n",
       "344 2014-09-30  3225.0  142.0 2015-03-20  150.3  0.468493  0.003203\n",
       "345 2014-09-30  3250.0  128.5 2015-03-20  161.8  0.468493  0.003203\n",
       "346 2014-09-30  3275.0  115.8 2015-03-20  174.0  0.468493  0.003203\n",
       "456 2014-09-30  3175.0   82.3 2014-10-17   24.5  0.046575  0.000038\n",
       "457 2014-09-30  3200.0   64.3 2014-10-17   31.5  0.046575  0.000038\n",
       "458 2014-09-30  3225.0   48.3 2014-10-17   40.5  0.046575  0.000038\n",
       "459 2014-09-30  3250.0   34.6 2014-10-17   51.8  0.046575  0.000038\n",
       "460 2014-09-30  3275.0   23.5 2014-10-17   65.8  0.046575  0.000038"
      ]
     },
     "execution_count": 159,
     "metadata": {},
     "output_type": "execute_result"
    }
   ],
   "source": [
    "options"
   ]
  },
  {
   "cell_type": "markdown",
   "metadata": {
    "slideshow": {
     "slide_type": "subslide"
    }
   },
   "source": [
    "Error function for the H93 model."
   ]
  },
  {
   "cell_type": "code",
   "execution_count": 161,
   "metadata": {},
   "outputs": [],
   "source": [
    "i = 0\n",
    "min_MSE = 500\n",
    "def H93_error_function(p0):\n",
    "    np.set_printoptions(suppress=True,\n",
    "            formatter={'all': lambda x: '%5.3f' % x})\n",
    "    global i, min_MSE\n",
    "    kappa_v, theta_v, sigma_v, rho, v0 = p0 \n",
    "    if kappa_v < 0.0 or theta_v < 0.005 or sigma_v < 0.0 or \\\n",
    "                rho < -1.0 or rho > 1.0:\n",
    "        return 500.0\n",
    "    if 2 * kappa_v * theta_v < sigma_v ** 2:\n",
    "        return 500.0\n",
    "    se = []\n",
    "    for row, option in options.iterrows():\n",
    "        model_value = H93_call_value(S0, option['Strike'], option['T'],\n",
    "                            option['r'], kappa_v, theta_v, sigma_v, rho, v0)\n",
    "        se.append((model_value - option['Call']) ** 2)\n",
    "    MSE = sum(se) / len(se)\n",
    "    min_MSE = min(min_MSE, MSE)\n",
    "    if i % 50 == 0:\n",
    "        print('%4d |' % i, np.array(p0), '| %8.3f | %7.3f' % (MSE, min_MSE))\n",
    "    i += 1\n",
    "    return MSE"
   ]
  },
  {
   "cell_type": "markdown",
   "metadata": {
    "slideshow": {
     "slide_type": "subslide"
    }
   },
   "source": [
    "Function for global and local optimization. "
   ]
  },
  {
   "cell_type": "code",
   "execution_count": 163,
   "metadata": {},
   "outputs": [],
   "source": [
    "def H93_calibration_full():\n",
    "    # first run with brute force\n",
    "    # (scan sensible regions)\n",
    "    p0 = brute(H93_error_function,\n",
    "                ((2.5, 10.6, 5.0),              # kappa_v\n",
    "                (0.01, 0.041, 0.01),            # theta_v\n",
    "                (0.05, 0.251, 0.1),             # sigma_v\n",
    "                (-0.75, 0.01, 0.25),            # rho\n",
    "                (0.01, 0.031, 0.01)),           # v0\n",
    "                finish=None)\n",
    "\n",
    "    # second run with local, convex minimization\n",
    "    # (dig deeper where promising)\n",
    "    opt = fmin(H93_error_function, p0,  \n",
    "                 xtol=0.000001, ftol=0.000001,\n",
    "                 maxiter=750, maxfun=900)\n",
    "    np.save('opt_sv', np.array(opt))\n",
    "    return opt"
   ]
  },
  {
   "cell_type": "markdown",
   "metadata": {
    "slideshow": {
     "slide_type": "subslide"
    }
   },
   "source": [
    "The calibration itself."
   ]
  },
  {
   "cell_type": "code",
   "execution_count": 165,
   "metadata": {},
   "outputs": [
    {
     "name": "stdout",
     "output_type": "stream",
     "text": [
      "   0 | [2.500 0.010 0.050 -0.750 0.010] | 1383.261 | 500.000\n",
      "  50 | [2.500 0.020 0.250 -0.750 0.030] |    7.465 |   7.465\n",
      " 100 | [2.500 0.040 0.050 -0.500 0.020] |   49.371 |   7.465\n",
      " 150 | [7.500 0.010 0.150 -0.250 0.010] | 1402.397 |   7.465\n",
      " 200 | [7.500 0.020 0.250 -0.250 0.030] |   26.156 |   7.465\n",
      " 250 | [7.500 0.040 0.050 0.000 0.020] |  241.889 |   7.465\n",
      " 300 | [1.843 0.023 0.226 -0.874 0.027] |    5.501 |   5.501\n",
      " 350 | [1.383 0.024 0.242 -0.997 0.028] |    5.135 |   5.135\n",
      " 400 | [2.877 0.024 0.237 -0.999 0.028] |    4.952 |   4.952\n",
      " 450 | [3.634 0.023 0.252 -1.000 0.029] |    4.890 |   4.889\n",
      " 500 | [3.699 0.023 0.253 -1.000 0.029] |    4.883 |   4.883\n",
      " 550 | [7.108 0.024 0.358 -0.977 0.031] |    3.773 |   3.678\n",
      " 600 | [7.931 0.028 0.647 -0.881 0.029] |    1.750 |   1.693\n",
      " 650 | [12.575 0.026 0.800 -0.868 0.033] |    0.617 |   0.507\n",
      " 700 | [15.267 0.026 0.891 -0.851 0.035] |    0.440 |   0.440\n",
      " 750 | [18.111 0.026 0.969 -0.826 0.035] |    0.325 |   0.325\n",
      " 800 | [18.698 0.026 0.984 -0.819 0.035] |    0.308 |   0.308\n",
      " 850 | [18.444 0.026 0.978 -0.821 0.035] |    0.307 |   0.307\n",
      " 900 | [18.445 0.026 0.978 -0.821 0.035] |    0.307 |   0.307\n",
      " 950 | [18.447 0.026 0.978 -0.821 0.035] |    0.307 |   0.307\n",
      "CPU times: total: 42.2 s\n",
      "Wall time: 1min 59s\n"
     ]
    }
   ],
   "source": [
    "%time opt = H93_calibration_full()"
   ]
  },
  {
   "cell_type": "markdown",
   "metadata": {
    "slideshow": {
     "slide_type": "subslide"
    }
   },
   "source": [
    "### Calibration of Jump Component"
   ]
  },
  {
   "cell_type": "markdown",
   "metadata": {
    "slideshow": {
     "slide_type": "subslide"
    }
   },
   "source": [
    "Now the calibration of the jump component."
   ]
  },
  {
   "cell_type": "code",
   "execution_count": 167,
   "metadata": {
    "slideshow": {
     "slide_type": "-"
    }
   },
   "outputs": [],
   "source": [
    "#\n",
    "# Option Selection\n",
    "#\n",
    "mats = sorted(set(options['Maturity']))\n",
    "optionss = options[options['Maturity'] == mats[0]]\n",
    "  # only shortest maturity\n",
    "\n",
    "#\n",
    "# Initial Parameter Guesses\n",
    "#\n",
    "kappa_v, theta_v, sigma_v, rho, v0 = np.load('opt_sv.npy')\n",
    "    # from H93 model calibration"
   ]
  },
  {
   "cell_type": "markdown",
   "metadata": {
    "slideshow": {
     "slide_type": "subslide"
    }
   },
   "source": [
    "The error function for the BCC97 model."
   ]
  },
  {
   "cell_type": "code",
   "execution_count": 169,
   "metadata": {},
   "outputs": [],
   "source": [
    "i = 0\n",
    "min_MSE = 5000.0\n",
    "local_opt = False\n",
    "def BCC_error_function(p0):\n",
    "    global i, min_MSE, local_opt, opt1\n",
    "    lamb, mu, delta = p0\n",
    "    if lamb < 0.0 or mu < -0.6 or mu > 0.0 or delta < 0.0:\n",
    "        return 5000.0\n",
    "    se = []\n",
    "    for row, option in optionss.iterrows():\n",
    "        model_value = BCC_call_value(S0, option['Strike'], option['T'],\n",
    "                            option['r'], kappa_v, theta_v, sigma_v, rho, v0,\n",
    "                            lamb, mu, delta)\n",
    "        se.append((model_value - option['Call']) ** 2)\n",
    "    MSE = sum(se) / len(se)\n",
    "    min_MSE = min(min_MSE, MSE)\n",
    "    if i % 25 == 0:\n",
    "        print('%4d |' % i, np.array(p0), '| %7.3f | %7.3f' % (MSE, min_MSE))\n",
    "    i += 1\n",
    "    if local_opt:\n",
    "        penalty = np.sqrt(np.sum((p0 - opt1) ** 2)) * 1\n",
    "        return MSE + penalty\n",
    "    return MSE"
   ]
  },
  {
   "cell_type": "markdown",
   "metadata": {
    "slideshow": {
     "slide_type": "subslide"
    }
   },
   "source": [
    "The function for the respective calibration."
   ]
  },
  {
   "cell_type": "code",
   "execution_count": 171,
   "metadata": {},
   "outputs": [],
   "source": [
    "def BCC_calibration_short():\n",
    "    # first run with brute force\n",
    "    # (scan sensible regions)\n",
    "    opt1 = 0.0\n",
    "    opt1 = brute(BCC_error_function,\n",
    "                ((0.0, 0.51, 0.1),  # lambda\n",
    "                (-0.5, -0.11, 0.1), # mu\n",
    "                (0.0, 0.51, 0.25)), # delta\n",
    "                finish=None)\n",
    "\n",
    "    # second run with local, convex minimization\n",
    "    # (dig deeper where promising)\n",
    "    local_opt = True\n",
    "    opt2 = fmin(BCC_error_function, opt1,\n",
    "                xtol=0.0000001, ftol=0.0000001,\n",
    "                maxiter=550, maxfun=750)\n",
    "    np.save('opt_jump', np.array(opt2))\n",
    "    return opt2"
   ]
  },
  {
   "cell_type": "markdown",
   "metadata": {
    "slideshow": {
     "slide_type": "subslide"
    }
   },
   "source": [
    "The calibration itself."
   ]
  },
  {
   "cell_type": "code",
   "execution_count": 173,
   "metadata": {
    "scrolled": true,
    "slideshow": {
     "slide_type": "-"
    }
   },
   "outputs": [
    {
     "name": "stdout",
     "output_type": "stream",
     "text": [
      "   0 | [0.000 -0.500 0.000] |   0.651 |   0.651\n",
      "  25 | [0.200 -0.500 0.250] |  37.176 |   0.651\n",
      "  50 | [0.400 -0.500 0.500] | 180.456 |   0.651\n",
      "  75 | [0.000 -0.500 0.000] |   0.651 |   0.646\n",
      " 100 | [0.011 -0.267 0.000] |   0.572 |   0.572\n",
      " 125 | [0.008 -0.591 0.001] |   0.558 |   0.558\n",
      " 150 | [0.008 -0.599 0.000] |   0.558 |   0.558\n",
      " 175 | [0.008 -0.600 0.001] |   0.558 |   0.558\n",
      " 200 | [0.008 -0.600 0.001] |   0.558 |   0.558\n",
      "Optimization terminated successfully.\n",
      "         Current function value: 0.557747\n",
      "         Iterations: 118\n",
      "         Function evaluations: 220\n",
      "CPU times: total: 4.73 s\n",
      "Wall time: 16.6 s\n"
     ]
    }
   ],
   "source": [
    "%time opt2 = BCC_calibration_short()"
   ]
  },
  {
   "cell_type": "markdown",
   "metadata": {
    "slideshow": {
     "slide_type": "subslide"
    }
   },
   "source": [
    "### Full Calibration"
   ]
  },
  {
   "cell_type": "markdown",
   "metadata": {
    "slideshow": {
     "slide_type": "subslide"
    }
   },
   "source": [
    "The input parameters from the previous calibrations."
   ]
  },
  {
   "cell_type": "code",
   "execution_count": 175,
   "metadata": {},
   "outputs": [],
   "source": [
    "#\n",
    "# Parameters from H93 & jump calibrations\n",
    "#\n",
    "kappa_v, theta_v, sigma_v, rho, v0 = np.load('opt_sv.npy')\n",
    "lamb, mu, delta = np.load('opt_jump.npy')\n",
    "p0 = [kappa_v, theta_v, sigma_v, rho, v0, lamb, mu, delta]"
   ]
  },
  {
   "cell_type": "markdown",
   "metadata": {
    "slideshow": {
     "slide_type": "subslide"
    }
   },
   "source": [
    "The respective error function."
   ]
  },
  {
   "cell_type": "code",
   "execution_count": 177,
   "metadata": {},
   "outputs": [],
   "source": [
    "def BCC_error_function(p0):\n",
    "    np.set_printoptions(suppress=True,\n",
    "            formatter={'all': lambda x: '%5.3f' % x})\n",
    "    global i, min_MSE\n",
    "    kappa_v, theta_v, sigma_v, rho, v0, lamb, mu, delta = p0 \n",
    "    if kappa_v < 0.0 or theta_v < 0.005 or sigma_v < 0.0 or \\\n",
    "        rho < -1.0 or rho > 1.0 or v0 < 0.0 or lamb < 0.0 or \\\n",
    "        mu < -.6 or mu > 0.0 or delta < 0.0:\n",
    "        return 5000.0\n",
    "    if 2 * kappa_v * theta_v < sigma_v ** 2:\n",
    "        return 5000.0\n",
    "    se = []\n",
    "    for row, option in options.iterrows():\n",
    "        model_value = BCC_call_value(S0, option['Strike'], option['T'],\n",
    "                            option['r'], kappa_v, theta_v, sigma_v, rho, v0,\n",
    "                            lamb, mu, delta)\n",
    "        se.append((model_value - option['Call']) ** 2)\n",
    "    MSE = sum(se) / len(se)\n",
    "    min_MSE = min(min_MSE, MSE)\n",
    "    if i % 25 == 0:\n",
    "        print('%4d |' % i, np.array(p0), '| %7.3f | %7.3f' % (MSE, min_MSE))\n",
    "    i += 1\n",
    "    return MSE"
   ]
  },
  {
   "cell_type": "markdown",
   "metadata": {
    "slideshow": {
     "slide_type": "subslide"
    }
   },
   "source": [
    "And the calibration function (only local now)."
   ]
  },
  {
   "cell_type": "code",
   "execution_count": 179,
   "metadata": {},
   "outputs": [],
   "source": [
    "def BCC_calibration_full():\n",
    "    # local, convex minimization for all parameters\n",
    "    opt = fmin(BCC_error_function, p0,  \n",
    "                 xtol=0.000001, ftol=0.000001,\n",
    "                 maxiter=450, maxfun=650)\n",
    "    np.save('opt_full', np.array(opt))\n",
    "    return opt"
   ]
  },
  {
   "cell_type": "markdown",
   "metadata": {
    "slideshow": {
     "slide_type": "subslide"
    }
   },
   "source": [
    "The calibration itself."
   ]
  },
  {
   "cell_type": "code",
   "execution_count": 181,
   "metadata": {},
   "outputs": [
    {
     "name": "stdout",
     "output_type": "stream",
     "text": [
      " 225 | [18.447 0.026 0.978 -0.821 0.037 0.008 -0.600 0.001] |   5.836 |   0.558\n",
      " 250 | [19.408 0.025 0.970 -0.855 0.034 0.008 -0.577 0.001] |   0.556 |   0.362\n",
      " 275 | [19.091 0.025 0.968 -0.903 0.035 0.008 -0.579 0.001] |   0.178 |   0.178\n",
      " 300 | [19.110 0.025 0.968 -0.889 0.035 0.008 -0.580 0.001] |   0.158 |   0.153\n",
      " 325 | [19.102 0.025 0.968 -0.894 0.035 0.008 -0.580 0.001] |   0.151 |   0.151\n",
      " 350 | [19.120 0.025 0.968 -0.902 0.035 0.008 -0.578 0.001] |   0.147 |   0.146\n",
      " 375 | [19.114 0.025 0.967 -0.916 0.035 0.008 -0.577 0.001] |   0.145 |   0.145\n",
      " 400 | [19.387 0.025 0.966 -0.932 0.035 0.008 -0.572 0.000] |   0.141 |   0.140\n",
      " 425 | [21.170 0.025 0.960 -0.985 0.036 0.008 -0.547 0.000] |   0.111 |   0.111\n",
      " 450 | [21.330 0.025 0.960 -0.984 0.036 0.008 -0.545 0.000] |   0.109 |   0.107\n",
      " 475 | [21.472 0.025 0.960 -0.987 0.036 0.008 -0.543 0.000] |   0.107 |   0.106\n",
      " 500 | [21.554 0.025 0.960 -0.984 0.036 0.008 -0.542 0.000] |   0.106 |   0.106\n",
      " 525 | [21.538 0.025 0.960 -0.985 0.036 0.008 -0.543 0.000] |   0.106 |   0.106\n",
      " 550 | [21.555 0.025 0.960 -0.985 0.036 0.008 -0.542 0.000] |   0.106 |   0.106\n",
      " 575 | [21.557 0.025 0.960 -0.985 0.036 0.008 -0.542 0.000] |   0.106 |   0.106\n",
      " 600 | [21.557 0.025 0.960 -0.985 0.036 0.008 -0.542 0.000] |   0.106 |   0.106\n",
      " 625 | [21.581 0.025 0.959 -0.985 0.036 0.008 -0.540 0.000] |   0.106 |   0.106\n",
      " 650 | [21.622 0.025 0.959 -0.985 0.036 0.008 -0.538 0.000] |   0.106 |   0.106\n",
      " 675 | [21.670 0.025 0.959 -0.984 0.036 0.008 -0.536 0.000] |   0.106 |   0.106\n",
      " 700 | [21.745 0.025 0.958 -0.983 0.036 0.008 -0.533 0.000] |   0.105 |   0.105\n",
      " 725 | [21.826 0.025 0.957 -0.983 0.036 0.008 -0.528 0.000] |   0.105 |   0.105\n",
      " 750 | [22.132 0.025 0.954 -0.991 0.036 0.008 -0.510 0.000] |   0.103 |   0.103\n",
      "CPU times: total: 46.3 s\n",
      "Wall time: 1min 36s\n"
     ]
    }
   ],
   "source": [
    "%time opt3 = BCC_calibration_full()"
   ]
  },
  {
   "cell_type": "markdown",
   "metadata": {
    "slideshow": {
     "slide_type": "subslide"
    }
   },
   "source": [
    "Visualization of the calibration results."
   ]
  },
  {
   "cell_type": "code",
   "execution_count": 183,
   "metadata": {},
   "outputs": [],
   "source": [
    "def BCC_calculate_model_values(p0):\n",
    "    ''' Calculates all model values given parameter vector p0. '''\n",
    "    kappa_v, theta_v, sigma_v, rho, v0, lamb, mu, delta = p0  \n",
    "    values = []\n",
    "    for row, option in options.iterrows():\n",
    "        model_value = BCC_call_value(S0, option['Strike'], option['T'],\n",
    "                            option['r'], kappa_v, theta_v, sigma_v, rho, v0,\n",
    "                            lamb, mu, delta)\n",
    "        values.append(model_value)\n",
    "    return np.array(values)\n",
    "options['Model'] = BCC_calculate_model_values(opt3)"
   ]
  },
  {
   "cell_type": "markdown",
   "metadata": {
    "slideshow": {
     "slide_type": "subslide"
    }
   },
   "source": [
    "The plot with the market quotes."
   ]
  },
  {
   "cell_type": "code",
   "execution_count": 185,
   "metadata": {},
   "outputs": [
    {
     "data": {
      "text/plain": [
       "Text(0, 0.5, 'option values')"
      ]
     },
     "execution_count": 185,
     "metadata": {},
     "output_type": "execute_result"
    },
    {
     "data": {
      "image/png": "[encoded data removed]",
      "text/plain": [
       "<Figure size 800x500 with 1 Axes>"
      ]
     },
     "metadata": {},
     "output_type": "display_data"
    }
   ],
   "source": [
    "fig, ax = plt.subplots(1, 1, figsize=(8, 5))\n",
    "for mat in set(options['Maturity']):\n",
    "    options[options.Maturity == mat].plot(x='Strike', y='Call',\n",
    "                                          style='b', lw=1.5,\n",
    "                                          legend=False, ax=ax)\n",
    "    options[options.Maturity == mat].plot(x='Strike', y='Model',\n",
    "                                          style='ro', legend=False,\n",
    "                                          ax=ax)\n",
    "plt.xlabel('strike')\n",
    "plt.ylabel('option values')"
   ]
  },
  {
   "cell_type": "markdown",
   "metadata": {
    "slideshow": {
     "slide_type": "subslide"
    }
   },
   "source": [
    "Saving the results."
   ]
  },
  {
   "cell_type": "code",
   "execution_count": 187,
   "metadata": {},
   "outputs": [],
   "source": [
    "filename = 'cal_results_full.h5'\n",
    "h5 = pd.HDFStore(filename, 'w')\n",
    "h5['options'] = options\n",
    "h5.close()"
   ]
  },
  {
   "cell_type": "markdown",
   "metadata": {
    "slideshow": {
     "slide_type": "subslide"
    }
   },
   "source": [
    "### Implied Volatilities"
   ]
  },
  {
   "cell_type": "markdown",
   "metadata": {
    "slideshow": {
     "slide_type": "subslide"
    }
   },
   "source": [
    "We also want to compare market with model implied volatilities."
   ]
  },
  {
   "cell_type": "code",
   "execution_count": 189,
   "metadata": {},
   "outputs": [],
   "source": [
    "from BSM_imp_vol import call_option\n",
    "def calculate_implied_volatilities(filename):\n",
    "    ''' Calculates market and model implied volatilities. '''\n",
    "    h5 = pd.HDFStore(filename, 'r')\n",
    "    options = h5['options']\n",
    "    h5.close()\n",
    "    for row, option in options.iterrows():\n",
    "        T = (option['Maturity'] - option['Date']).days / 365.\n",
    "        B0T = B([kappa_r, theta_r, sigma_r, r0, T])\n",
    "        r = -math.log(B0T) / T\n",
    "        call = call_option(S0, option['Strike'], option['Date'],\n",
    "                            option['Maturity'], option['r'], 0.1)\n",
    "        options.loc[row, 'market_iv'] = call.imp_vol(option['Call'], 0.15)\n",
    "        options.loc[row, 'model_iv'] = call.imp_vol(option['Model'], 0.15)\n",
    "    return options"
   ]
  },
  {
   "cell_type": "markdown",
   "metadata": {
    "slideshow": {
     "slide_type": "subslide"
    }
   },
   "source": [
    "Calculation of the implied volatilities."
   ]
  },
  {
   "cell_type": "code",
   "execution_count": 191,
   "metadata": {},
   "outputs": [
    {
     "data": {
      "text/html": [
       "<div>\n",
       "<style scoped>\n",
       "    .dataframe tbody tr th:only-of-type {\n",
       "        vertical-align: middle;\n",
       "    }\n",
       "\n",
       "    .dataframe tbody tr th {\n",
       "        vertical-align: top;\n",
       "    }\n",
       "\n",
       "    .dataframe thead th {\n",
       "        text-align: right;\n",
       "    }\n",
       "</style>\n",
       "<table border=\"1\" class=\"dataframe\">\n",
       "  <thead>\n",
       "    <tr style=\"text-align: right;\">\n",
       "      <th></th>\n",
       "      <th>Date</th>\n",
       "      <th>Strike</th>\n",
       "      <th>Call</th>\n",
       "      <th>Maturity</th>\n",
       "      <th>Put</th>\n",
       "      <th>T</th>\n",
       "      <th>r</th>\n",
       "      <th>Model</th>\n",
       "      <th>market_iv</th>\n",
       "      <th>model_iv</th>\n",
       "    </tr>\n",
       "  </thead>\n",
       "  <tbody>\n",
       "    <tr>\n",
       "      <th>38</th>\n",
       "      <td>2014-09-30</td>\n",
       "      <td>3175.0</td>\n",
       "      <td>126.8</td>\n",
       "      <td>2014-12-19</td>\n",
       "      <td>78.8</td>\n",
       "      <td>0.219178</td>\n",
       "      <td>0.001349</td>\n",
       "      <td>127.089395</td>\n",
       "      <td>0.165195</td>\n",
       "      <td>0.165690</td>\n",
       "    </tr>\n",
       "    <tr>\n",
       "      <th>39</th>\n",
       "      <td>2014-09-30</td>\n",
       "      <td>3200.0</td>\n",
       "      <td>110.9</td>\n",
       "      <td>2014-12-19</td>\n",
       "      <td>87.9</td>\n",
       "      <td>0.219178</td>\n",
       "      <td>0.001349</td>\n",
       "      <td>111.236618</td>\n",
       "      <td>0.161488</td>\n",
       "      <td>0.162053</td>\n",
       "    </tr>\n",
       "    <tr>\n",
       "      <th>40</th>\n",
       "      <td>2014-09-30</td>\n",
       "      <td>3225.0</td>\n",
       "      <td>96.1</td>\n",
       "      <td>2014-12-19</td>\n",
       "      <td>98.1</td>\n",
       "      <td>0.219178</td>\n",
       "      <td>0.001349</td>\n",
       "      <td>96.318975</td>\n",
       "      <td>0.158014</td>\n",
       "      <td>0.158378</td>\n",
       "    </tr>\n",
       "    <tr>\n",
       "      <th>41</th>\n",
       "      <td>2014-09-30</td>\n",
       "      <td>3250.0</td>\n",
       "      <td>82.3</td>\n",
       "      <td>2014-12-19</td>\n",
       "      <td>109.3</td>\n",
       "      <td>0.219178</td>\n",
       "      <td>0.001349</td>\n",
       "      <td>82.396105</td>\n",
       "      <td>0.154499</td>\n",
       "      <td>0.154659</td>\n",
       "    </tr>\n",
       "    <tr>\n",
       "      <th>42</th>\n",
       "      <td>2014-09-30</td>\n",
       "      <td>3275.0</td>\n",
       "      <td>69.6</td>\n",
       "      <td>2014-12-19</td>\n",
       "      <td>121.6</td>\n",
       "      <td>0.219178</td>\n",
       "      <td>0.001349</td>\n",
       "      <td>69.523709</td>\n",
       "      <td>0.151021</td>\n",
       "      <td>0.150893</td>\n",
       "    </tr>\n",
       "    <tr>\n",
       "      <th>342</th>\n",
       "      <td>2014-09-30</td>\n",
       "      <td>3175.0</td>\n",
       "      <td>171.0</td>\n",
       "      <td>2015-03-20</td>\n",
       "      <td>129.2</td>\n",
       "      <td>0.468493</td>\n",
       "      <td>0.003203</td>\n",
       "      <td>171.031331</td>\n",
       "      <td>0.162021</td>\n",
       "      <td>0.162057</td>\n",
       "    </tr>\n",
       "    <tr>\n",
       "      <th>343</th>\n",
       "      <td>2014-09-30</td>\n",
       "      <td>3200.0</td>\n",
       "      <td>156.1</td>\n",
       "      <td>2015-03-20</td>\n",
       "      <td>139.4</td>\n",
       "      <td>0.468493</td>\n",
       "      <td>0.003203</td>\n",
       "      <td>156.121697</td>\n",
       "      <td>0.160002</td>\n",
       "      <td>0.160027</td>\n",
       "    </tr>\n",
       "    <tr>\n",
       "      <th>344</th>\n",
       "      <td>2014-09-30</td>\n",
       "      <td>3225.0</td>\n",
       "      <td>142.0</td>\n",
       "      <td>2015-03-20</td>\n",
       "      <td>150.3</td>\n",
       "      <td>0.468493</td>\n",
       "      <td>0.003203</td>\n",
       "      <td>141.885842</td>\n",
       "      <td>0.158126</td>\n",
       "      <td>0.157997</td>\n",
       "    </tr>\n",
       "    <tr>\n",
       "      <th>345</th>\n",
       "      <td>2014-09-30</td>\n",
       "      <td>3250.0</td>\n",
       "      <td>128.5</td>\n",
       "      <td>2015-03-20</td>\n",
       "      <td>161.8</td>\n",
       "      <td>0.468493</td>\n",
       "      <td>0.003203</td>\n",
       "      <td>128.343935</td>\n",
       "      <td>0.156142</td>\n",
       "      <td>0.155965</td>\n",
       "    </tr>\n",
       "    <tr>\n",
       "      <th>346</th>\n",
       "      <td>2014-09-30</td>\n",
       "      <td>3275.0</td>\n",
       "      <td>115.8</td>\n",
       "      <td>2015-03-20</td>\n",
       "      <td>174.0</td>\n",
       "      <td>0.468493</td>\n",
       "      <td>0.003203</td>\n",
       "      <td>115.513745</td>\n",
       "      <td>0.154257</td>\n",
       "      <td>0.153931</td>\n",
       "    </tr>\n",
       "    <tr>\n",
       "      <th>456</th>\n",
       "      <td>2014-09-30</td>\n",
       "      <td>3175.0</td>\n",
       "      <td>82.3</td>\n",
       "      <td>2014-10-17</td>\n",
       "      <td>24.5</td>\n",
       "      <td>0.046575</td>\n",
       "      <td>0.000038</td>\n",
       "      <td>81.367457</td>\n",
       "      <td>0.192297</td>\n",
       "      <td>0.188648</td>\n",
       "    </tr>\n",
       "    <tr>\n",
       "      <th>457</th>\n",
       "      <td>2014-09-30</td>\n",
       "      <td>3200.0</td>\n",
       "      <td>64.3</td>\n",
       "      <td>2014-10-17</td>\n",
       "      <td>31.5</td>\n",
       "      <td>0.046575</td>\n",
       "      <td>0.000038</td>\n",
       "      <td>64.166034</td>\n",
       "      <td>0.181742</td>\n",
       "      <td>0.181247</td>\n",
       "    </tr>\n",
       "    <tr>\n",
       "      <th>458</th>\n",
       "      <td>2014-09-30</td>\n",
       "      <td>3225.0</td>\n",
       "      <td>48.3</td>\n",
       "      <td>2014-10-17</td>\n",
       "      <td>40.5</td>\n",
       "      <td>0.046575</td>\n",
       "      <td>0.000038</td>\n",
       "      <td>48.626361</td>\n",
       "      <td>0.172247</td>\n",
       "      <td>0.173423</td>\n",
       "    </tr>\n",
       "    <tr>\n",
       "      <th>459</th>\n",
       "      <td>2014-09-30</td>\n",
       "      <td>3250.0</td>\n",
       "      <td>34.6</td>\n",
       "      <td>2014-10-17</td>\n",
       "      <td>51.8</td>\n",
       "      <td>0.046575</td>\n",
       "      <td>0.000038</td>\n",
       "      <td>34.979407</td>\n",
       "      <td>0.163672</td>\n",
       "      <td>0.165064</td>\n",
       "    </tr>\n",
       "    <tr>\n",
       "      <th>460</th>\n",
       "      <td>2014-09-30</td>\n",
       "      <td>3275.0</td>\n",
       "      <td>23.5</td>\n",
       "      <td>2014-10-17</td>\n",
       "      <td>65.8</td>\n",
       "      <td>0.046575</td>\n",
       "      <td>0.000038</td>\n",
       "      <td>23.443467</td>\n",
       "      <td>0.156243</td>\n",
       "      <td>0.156019</td>\n",
       "    </tr>\n",
       "  </tbody>\n",
       "</table>\n",
       "</div>"
      ],
      "text/plain": [
       "          Date  Strike   Call   Maturity    Put         T         r  \\\n",
       "38  2014-09-30  3175.0  126.8 2014-12-19   78.8  0.219178  0.001349   \n",
       "39  2014-09-30  3200.0  110.9 2014-12-19   87.9  0.219178  0.001349   \n",
       "40  2014-09-30  3225.0   96.1 2014-12-19   98.1  0.219178  0.001349   \n",
       "41  2014-09-30  3250.0   82.3 2014-12-19  109.3  0.219178  0.001349   \n",
       "42  2014-09-30  3275.0   69.6 2014-12-19  121.6  0.219178  0.001349   \n",
       "342 2014-09-30  3175.0  171.0 2015-03-20  129.2  0.468493  0.003203   \n",
       "343 2014-09-30  3200.0  156.1 2015-03-20  139.4  0.468493  0.003203   \n",
       "344 2014-09-30  3225.0  142.0 2015-03-20  150.3  0.468493  0.003203   \n",
       "345 2014-09-30  3250.0  128.5 2015-03-20  161.8  0.468493  0.003203   \n",
       "346 2014-09-30  3275.0  115.8 2015-03-20  174.0  0.468493  0.003203   \n",
       "456 2014-09-30  3175.0   82.3 2014-10-17   24.5  0.046575  0.000038   \n",
       "457 2014-09-30  3200.0   64.3 2014-10-17   31.5  0.046575  0.000038   \n",
       "458 2014-09-30  3225.0   48.3 2014-10-17   40.5  0.046575  0.000038   \n",
       "459 2014-09-30  3250.0   34.6 2014-10-17   51.8  0.046575  0.000038   \n",
       "460 2014-09-30  3275.0   23.5 2014-10-17   65.8  0.046575  0.000038   \n",
       "\n",
       "          Model  market_iv  model_iv  \n",
       "38   127.089395   0.165195  0.165690  \n",
       "39   111.236618   0.161488  0.162053  \n",
       "40    96.318975   0.158014  0.158378  \n",
       "41    82.396105   0.154499  0.154659  \n",
       "42    69.523709   0.151021  0.150893  \n",
       "342  171.031331   0.162021  0.162057  \n",
       "343  156.121697   0.160002  0.160027  \n",
       "344  141.885842   0.158126  0.157997  \n",
       "345  128.343935   0.156142  0.155965  \n",
       "346  115.513745   0.154257  0.153931  \n",
       "456   81.367457   0.192297  0.188648  \n",
       "457   64.166034   0.181742  0.181247  \n",
       "458   48.626361   0.172247  0.173423  \n",
       "459   34.979407   0.163672  0.165064  \n",
       "460   23.443467   0.156243  0.156019  "
      ]
     },
     "execution_count": 191,
     "metadata": {},
     "output_type": "execute_result"
    }
   ],
   "source": [
    "options = calculate_implied_volatilities('cal_results_full.h5')\n",
    "options"
   ]
  },
  {
   "cell_type": "code",
   "execution_count": 193,
   "metadata": {
    "tags": []
   },
   "outputs": [
    {
     "data": {
      "text/plain": [
       "<Axes: xlabel='Strike'>"
      ]
     },
     "execution_count": 193,
     "metadata": {},
     "output_type": "execute_result"
    },
    {
     "data": {
      "image/png": "[encoded data removed]",
      "text/plain": [
       "<Figure size 1000x600 with 1 Axes>"
      ]
     },
     "metadata": {},
     "output_type": "display_data"
    }
   ],
   "source": [
    "options.set_index('Strike')[['Call', 'Model']].plot(figsize=(10,6), style=['b^', 'ro'])"
   ]
  },
  {
   "cell_type": "code",
   "execution_count": 195,
   "metadata": {
    "tags": []
   },
   "outputs": [
    {
     "data": {
      "text/plain": [
       "<Axes: xlabel='Strike'>"
      ]
     },
     "execution_count": 195,
     "metadata": {},
     "output_type": "execute_result"
    },
    {
     "data": {
      "image/png": "[encoded data removed]",
      "text/plain": [
       "<Figure size 1000x600 with 1 Axes>"
      ]
     },
     "metadata": {},
     "output_type": "display_data"
    }
   ],
   "source": [
    "options.set_index('Strike')[['market_iv', 'model_iv']].plot(figsize=(10,6), style=['b^', 'ro'])"
   ]
  },
  {
   "cell_type": "markdown",
   "metadata": {
    "slideshow": {
     "slide_type": "subslide"
    }
   },
   "source": [
    "A function to plot the implied volatilities."
   ]
  },
  {
   "cell_type": "code",
   "execution_count": 197,
   "metadata": {},
   "outputs": [],
   "source": [
    "def plot_implied_volatilities(options, model):\n",
    "    ''' Plots market implied volatilities against model implied ones. '''\n",
    "    mats = sorted(set(options.Maturity))\n",
    "    for mat in mats:\n",
    "        opts = options[options.Maturity == mat]\n",
    "        plt.figure(figsize=(8, 6))\n",
    "        plt.subplot(211)\n",
    "        plt.ylabel('implied volatility')\n",
    "        plt.plot(opts.Strike, opts.market_iv, 'b', label='market', lw=1.5)\n",
    "        plt.plot(opts.Strike, opts.model_iv, 'ro', label='model')\n",
    "        plt.legend(loc=0)\n",
    "        plt.axis([min(opts.Strike) - 10, max(opts.Strike) + 10,\n",
    "              min(opts.market_iv) - 0.015, max(opts.market_iv) + 0.015])\n",
    "        plt.title('Maturity %s' % str(mat)[:10])\n",
    "        plt.subplot(212)\n",
    "        wi = 5.0\n",
    "        diffs = opts.model_iv.values - opts.market_iv.values\n",
    "        plt.bar(opts.Strike, diffs, width=wi)\n",
    "        plt.ylabel('difference')\n",
    "        ymi = min(diffs) - (max(diffs) - min(diffs)) * 0.1\n",
    "        yma = max(diffs) + (max(diffs) - min(diffs)) * 0.1\n",
    "        plt.axis([min(opts.Strike) - 10, max(opts.Strike) + 10, ymi, yma])\n",
    "        plt.tight_layout()"
   ]
  },
  {
   "cell_type": "markdown",
   "metadata": {
    "slideshow": {
     "slide_type": "subslide"
    }
   },
   "source": [
    "And the plot."
   ]
  },
  {
   "cell_type": "code",
   "execution_count": 199,
   "metadata": {},
   "outputs": [
    {
     "data": {
      "image/png": "[encoded data removed]",
      "text/plain": [
       "<Figure size 800x600 with 2 Axes>"
      ]
     },
     "metadata": {},
     "output_type": "display_data"
    },
    {
     "data": {
      "image/png": "[encoded data removed]",
      "text/plain": [
       "<Figure size 800x600 with 2 Axes>"
      ]
     },
     "metadata": {},
     "output_type": "display_data"
    },
    {
     "data": {
      "image/png": "[encoded data removed]",
      "text/plain": [
       "<Figure size 800x600 with 2 Axes>"
      ]
     },
     "metadata": {},
     "output_type": "display_data"
    }
   ],
   "source": [
    "plot_implied_volatilities(options, 'BCC97')"
   ]
  },
  {
   "cell_type": "markdown",
   "metadata": {
    "slideshow": {
     "slide_type": "slide"
    }
   },
   "source": [
    "## Conclusions"
   ]
  },
  {
   "cell_type": "markdown",
   "metadata": {},
   "source": [
    "In conclusion, we can state the following:\n",
    "\n",
    "* calibration is more of an art than a science\n",
    "* data issues, numerical issues and more have to be considered\n",
    "* the general market model is capable of replicating market data (rates, option quotes) reasonably well\n",
    "* it is important to consider the objective of the calibration\n",
    "\n",
    "All details, codes, proofs, etc. in the book \"Derivatives Analytics with Python\" &mdash; cf. [http://derivatives-analytics-with-python.com](http://derivatives-analytics-with-python.com)."
   ]
  },
  {
   "cell_type": "markdown",
   "metadata": {
    "slideshow": {
     "slide_type": "slide"
    }
   },
   "source": [
    "<img src=\"http://hilpisch.com/tpq_logo.png\" alt=\"The Python Quants\" width=\"35%\" align=\"right\" border=\"0\"><br>\n",
    "\n",
    "**Quant Platform** | http://pqp.io\n",
    "\n",
    "**Python for Finance Training** | http://training.tpq.io\n",
    "\n",
    "**Certificate in Computational Finance** | http://compfinance.tpq.io\n",
    "\n",
    "**Derivatives Analytics with Python (Wiley Finance)** |\n",
    "http://dawp.tpq.io\n",
    "\n",
    "**Python for Finance (2nd ed., O'Reilly)** |\n",
    "http://py4fi.tpq.io"
   ]
  }
 ],
 "metadata": {
  "celltoolbar": "Slideshow",
  "kernelspec": {
   "display_name": "Python 3 (ipykernel)",
   "language": "python",
   "name": "python3"
  },
  "language_info": {
   "codemirror_mode": {
    "name": "ipython",
    "version": 3
   },
   "file_extension": ".py",
   "mimetype": "text/x-python",
   "name": "python",
   "nbconvert_exporter": "python",
   "pygments_lexer": "ipython3",
   "version": "3.11.7"
  }
 },
 "nbformat": 4,
 "nbformat_minor": 4
}
